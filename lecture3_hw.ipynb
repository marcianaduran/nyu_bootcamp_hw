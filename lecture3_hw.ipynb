{
 "cells": [
  {
   "cell_type": "code",
   "execution_count": 4,
   "id": "0b3f0e64",
   "metadata": {},
   "outputs": [],
   "source": [
    "import pandas as pd\n",
    "import matplotlib.pyplot as plt\n",
    "import seaborn as sns\n",
    "from IPython.core.interactiveshell import InteractiveShell\n",
    "InteractiveShell.ast_node_interactivity = \"all\""
   ]
  },
  {
   "cell_type": "code",
   "execution_count": null,
   "id": "3fb4a6e8",
   "metadata": {},
   "outputs": [
    {
     "data": {
      "text/html": [
       "<div>\n",
       "<style scoped>\n",
       "    .dataframe tbody tr th:only-of-type {\n",
       "        vertical-align: middle;\n",
       "    }\n",
       "\n",
       "    .dataframe tbody tr th {\n",
       "        vertical-align: top;\n",
       "    }\n",
       "\n",
       "    .dataframe thead th {\n",
       "        text-align: right;\n",
       "    }\n",
       "</style>\n",
       "<table border=\"1\" class=\"dataframe\">\n",
       "  <thead>\n",
       "    <tr style=\"text-align: right;\">\n",
       "      <th></th>\n",
       "      <th>hour_beginning</th>\n",
       "      <th>location</th>\n",
       "      <th>Pedestrians</th>\n",
       "      <th>Towards Manhattan</th>\n",
       "      <th>Towards Brooklyn</th>\n",
       "      <th>weather_summary</th>\n",
       "      <th>temperature</th>\n",
       "      <th>precipitation</th>\n",
       "      <th>lat</th>\n",
       "      <th>long</th>\n",
       "      <th>events</th>\n",
       "      <th>Location1</th>\n",
       "    </tr>\n",
       "  </thead>\n",
       "  <tbody>\n",
       "    <tr>\n",
       "      <th>0</th>\n",
       "      <td>04/30/2019 12:00:00 AM</td>\n",
       "      <td>Brooklyn Bridge</td>\n",
       "      <td>3</td>\n",
       "      <td>3</td>\n",
       "      <td>0</td>\n",
       "      <td>NaN</td>\n",
       "      <td>NaN</td>\n",
       "      <td>NaN</td>\n",
       "      <td>40.708164</td>\n",
       "      <td>-73.999509</td>\n",
       "      <td>NaN</td>\n",
       "      <td>(40.7081639691088, -73.9995087014816)</td>\n",
       "    </tr>\n",
       "    <tr>\n",
       "      <th>1</th>\n",
       "      <td>12/31/2019 10:00:00 PM</td>\n",
       "      <td>Brooklyn Bridge</td>\n",
       "      <td>10</td>\n",
       "      <td>9</td>\n",
       "      <td>1</td>\n",
       "      <td>cloudy</td>\n",
       "      <td>42.0</td>\n",
       "      <td>0.0005</td>\n",
       "      <td>40.708164</td>\n",
       "      <td>-73.999509</td>\n",
       "      <td>NaN</td>\n",
       "      <td>(40.7081639691088, -73.9995087014816)</td>\n",
       "    </tr>\n",
       "    <tr>\n",
       "      <th>2</th>\n",
       "      <td>12/31/2019 11:00:00 PM</td>\n",
       "      <td>Brooklyn Bridge</td>\n",
       "      <td>2</td>\n",
       "      <td>0</td>\n",
       "      <td>2</td>\n",
       "      <td>cloudy</td>\n",
       "      <td>42.0</td>\n",
       "      <td>0.0004</td>\n",
       "      <td>40.708164</td>\n",
       "      <td>-73.999509</td>\n",
       "      <td>NaN</td>\n",
       "      <td>(40.7081639691088, -73.9995087014816)</td>\n",
       "    </tr>\n",
       "    <tr>\n",
       "      <th>3</th>\n",
       "      <td>12/31/2019 09:00:00 PM</td>\n",
       "      <td>Brooklyn Bridge</td>\n",
       "      <td>12</td>\n",
       "      <td>0</td>\n",
       "      <td>12</td>\n",
       "      <td>cloudy</td>\n",
       "      <td>42.0</td>\n",
       "      <td>0.0036</td>\n",
       "      <td>40.708164</td>\n",
       "      <td>-73.999509</td>\n",
       "      <td>NaN</td>\n",
       "      <td>(40.7081639691088, -73.9995087014816)</td>\n",
       "    </tr>\n",
       "    <tr>\n",
       "      <th>4</th>\n",
       "      <td>04/01/2019 03:00:00 AM</td>\n",
       "      <td>Brooklyn Bridge</td>\n",
       "      <td>1</td>\n",
       "      <td>0</td>\n",
       "      <td>1</td>\n",
       "      <td>clear-night</td>\n",
       "      <td>36.0</td>\n",
       "      <td>0.0000</td>\n",
       "      <td>40.708164</td>\n",
       "      <td>-73.999509</td>\n",
       "      <td>NaN</td>\n",
       "      <td>(40.7081639691088, -73.9995087014816)</td>\n",
       "    </tr>\n",
       "  </tbody>\n",
       "</table>\n",
       "</div>"
      ],
      "text/plain": [
       "           hour_beginning         location  Pedestrians  Towards Manhattan  \\\n",
       "0  04/30/2019 12:00:00 AM  Brooklyn Bridge            3                  3   \n",
       "1  12/31/2019 10:00:00 PM  Brooklyn Bridge           10                  9   \n",
       "2  12/31/2019 11:00:00 PM  Brooklyn Bridge            2                  0   \n",
       "3  12/31/2019 09:00:00 PM  Brooklyn Bridge           12                  0   \n",
       "4  04/01/2019 03:00:00 AM  Brooklyn Bridge            1                  0   \n",
       "\n",
       "   Towards Brooklyn weather_summary  temperature  precipitation        lat  \\\n",
       "0                 0             NaN          NaN            NaN  40.708164   \n",
       "1                 1          cloudy         42.0         0.0005  40.708164   \n",
       "2                 2          cloudy         42.0         0.0004  40.708164   \n",
       "3                12          cloudy         42.0         0.0036  40.708164   \n",
       "4                 1     clear-night         36.0         0.0000  40.708164   \n",
       "\n",
       "        long events                              Location1  \n",
       "0 -73.999509    NaN  (40.7081639691088, -73.9995087014816)  \n",
       "1 -73.999509    NaN  (40.7081639691088, -73.9995087014816)  \n",
       "2 -73.999509    NaN  (40.7081639691088, -73.9995087014816)  \n",
       "3 -73.999509    NaN  (40.7081639691088, -73.9995087014816)  \n",
       "4 -73.999509    NaN  (40.7081639691088, -73.9995087014816)  "
      ]
     },
     "execution_count": 7,
     "metadata": {},
     "output_type": "execute_result"
    },
    {
     "data": {
      "text/html": [
       "<div>\n",
       "<style scoped>\n",
       "    .dataframe tbody tr th:only-of-type {\n",
       "        vertical-align: middle;\n",
       "    }\n",
       "\n",
       "    .dataframe tbody tr th {\n",
       "        vertical-align: top;\n",
       "    }\n",
       "\n",
       "    .dataframe thead th {\n",
       "        text-align: right;\n",
       "    }\n",
       "</style>\n",
       "<table border=\"1\" class=\"dataframe\">\n",
       "  <thead>\n",
       "    <tr style=\"text-align: right;\">\n",
       "      <th></th>\n",
       "      <th>hour_beginning</th>\n",
       "      <th>location</th>\n",
       "      <th>Pedestrians</th>\n",
       "      <th>Towards Manhattan</th>\n",
       "      <th>Towards Brooklyn</th>\n",
       "      <th>weather_summary</th>\n",
       "      <th>temperature</th>\n",
       "      <th>precipitation</th>\n",
       "      <th>lat</th>\n",
       "      <th>long</th>\n",
       "      <th>events</th>\n",
       "      <th>Location1</th>\n",
       "    </tr>\n",
       "  </thead>\n",
       "  <tbody>\n",
       "    <tr>\n",
       "      <th>16052</th>\n",
       "      <td>06/22/2018 04:00:00 AM</td>\n",
       "      <td>Brooklyn Bridge</td>\n",
       "      <td>7</td>\n",
       "      <td>4</td>\n",
       "      <td>3</td>\n",
       "      <td>partly-cloudy-night</td>\n",
       "      <td>67.0</td>\n",
       "      <td>0.0000</td>\n",
       "      <td>40.708164</td>\n",
       "      <td>-73.999509</td>\n",
       "      <td>NaN</td>\n",
       "      <td>(40.7081639691088, -73.9995087014816)</td>\n",
       "    </tr>\n",
       "    <tr>\n",
       "      <th>16053</th>\n",
       "      <td>07/19/2018 06:00:00 AM</td>\n",
       "      <td>Brooklyn Bridge</td>\n",
       "      <td>192</td>\n",
       "      <td>89</td>\n",
       "      <td>103</td>\n",
       "      <td>clear-day</td>\n",
       "      <td>65.0</td>\n",
       "      <td>0.0000</td>\n",
       "      <td>40.708164</td>\n",
       "      <td>-73.999509</td>\n",
       "      <td>NaN</td>\n",
       "      <td>(40.7081639691088, -73.9995087014816)</td>\n",
       "    </tr>\n",
       "    <tr>\n",
       "      <th>16054</th>\n",
       "      <td>06/16/2018 04:00:00 PM</td>\n",
       "      <td>Brooklyn Bridge</td>\n",
       "      <td>2623</td>\n",
       "      <td>1161</td>\n",
       "      <td>1462</td>\n",
       "      <td>clear-day</td>\n",
       "      <td>82.0</td>\n",
       "      <td>0.0000</td>\n",
       "      <td>40.708164</td>\n",
       "      <td>-73.999509</td>\n",
       "      <td>NaN</td>\n",
       "      <td>(40.7081639691088, -73.9995087014816)</td>\n",
       "    </tr>\n",
       "    <tr>\n",
       "      <th>16055</th>\n",
       "      <td>07/24/2018 06:00:00 PM</td>\n",
       "      <td>Brooklyn Bridge</td>\n",
       "      <td>2016</td>\n",
       "      <td>1069</td>\n",
       "      <td>947</td>\n",
       "      <td>partly-cloudy-day</td>\n",
       "      <td>80.0</td>\n",
       "      <td>0.0000</td>\n",
       "      <td>40.708164</td>\n",
       "      <td>-73.999509</td>\n",
       "      <td>NaN</td>\n",
       "      <td>(40.7081639691088, -73.9995087014816)</td>\n",
       "    </tr>\n",
       "    <tr>\n",
       "      <th>16056</th>\n",
       "      <td>07/23/2018 12:00:00 AM</td>\n",
       "      <td>Brooklyn Bridge</td>\n",
       "      <td>57</td>\n",
       "      <td>20</td>\n",
       "      <td>37</td>\n",
       "      <td>cloudy</td>\n",
       "      <td>75.0</td>\n",
       "      <td>0.0103</td>\n",
       "      <td>40.708164</td>\n",
       "      <td>-73.999509</td>\n",
       "      <td>NaN</td>\n",
       "      <td>(40.7081639691088, -73.9995087014816)</td>\n",
       "    </tr>\n",
       "  </tbody>\n",
       "</table>\n",
       "</div>"
      ],
      "text/plain": [
       "               hour_beginning         location  Pedestrians  \\\n",
       "16052  06/22/2018 04:00:00 AM  Brooklyn Bridge            7   \n",
       "16053  07/19/2018 06:00:00 AM  Brooklyn Bridge          192   \n",
       "16054  06/16/2018 04:00:00 PM  Brooklyn Bridge         2623   \n",
       "16055  07/24/2018 06:00:00 PM  Brooklyn Bridge         2016   \n",
       "16056  07/23/2018 12:00:00 AM  Brooklyn Bridge           57   \n",
       "\n",
       "       Towards Manhattan  Towards Brooklyn      weather_summary  temperature  \\\n",
       "16052                  4                 3  partly-cloudy-night         67.0   \n",
       "16053                 89               103            clear-day         65.0   \n",
       "16054               1161              1462            clear-day         82.0   \n",
       "16055               1069               947    partly-cloudy-day         80.0   \n",
       "16056                 20                37               cloudy         75.0   \n",
       "\n",
       "       precipitation        lat       long events  \\\n",
       "16052         0.0000  40.708164 -73.999509    NaN   \n",
       "16053         0.0000  40.708164 -73.999509    NaN   \n",
       "16054         0.0000  40.708164 -73.999509    NaN   \n",
       "16055         0.0000  40.708164 -73.999509    NaN   \n",
       "16056         0.0103  40.708164 -73.999509    NaN   \n",
       "\n",
       "                                   Location1  \n",
       "16052  (40.7081639691088, -73.9995087014816)  \n",
       "16053  (40.7081639691088, -73.9995087014816)  \n",
       "16054  (40.7081639691088, -73.9995087014816)  \n",
       "16055  (40.7081639691088, -73.9995087014816)  \n",
       "16056  (40.7081639691088, -73.9995087014816)  "
      ]
     },
     "execution_count": 7,
     "metadata": {},
     "output_type": "execute_result"
    },
    {
     "data": {
      "text/html": [
       "<div>\n",
       "<style scoped>\n",
       "    .dataframe tbody tr th:only-of-type {\n",
       "        vertical-align: middle;\n",
       "    }\n",
       "\n",
       "    .dataframe tbody tr th {\n",
       "        vertical-align: top;\n",
       "    }\n",
       "\n",
       "    .dataframe thead th {\n",
       "        text-align: right;\n",
       "    }\n",
       "</style>\n",
       "<table border=\"1\" class=\"dataframe\">\n",
       "  <thead>\n",
       "    <tr style=\"text-align: right;\">\n",
       "      <th></th>\n",
       "      <th>hour_beginning</th>\n",
       "      <th>location</th>\n",
       "      <th>Pedestrians</th>\n",
       "      <th>Towards Manhattan</th>\n",
       "      <th>Towards Brooklyn</th>\n",
       "      <th>weather_summary</th>\n",
       "      <th>temperature</th>\n",
       "      <th>precipitation</th>\n",
       "      <th>lat</th>\n",
       "      <th>long</th>\n",
       "      <th>events</th>\n",
       "      <th>Location1</th>\n",
       "    </tr>\n",
       "  </thead>\n",
       "  <tbody>\n",
       "    <tr>\n",
       "      <th>10120</th>\n",
       "      <td>10/23/2017 01:00:00 PM</td>\n",
       "      <td>Brooklyn Bridge</td>\n",
       "      <td>2137</td>\n",
       "      <td>1085</td>\n",
       "      <td>1052</td>\n",
       "      <td>clear-day</td>\n",
       "      <td>72.0</td>\n",
       "      <td>0.0</td>\n",
       "      <td>40.708164</td>\n",
       "      <td>-73.999509</td>\n",
       "      <td>NaN</td>\n",
       "      <td>(40.7081639691088, -73.9995087014816)</td>\n",
       "    </tr>\n",
       "    <tr>\n",
       "      <th>3070</th>\n",
       "      <td>07/30/2019 01:00:00 PM</td>\n",
       "      <td>Brooklyn Bridge</td>\n",
       "      <td>745</td>\n",
       "      <td>341</td>\n",
       "      <td>404</td>\n",
       "      <td>partly-cloudy-day</td>\n",
       "      <td>91.0</td>\n",
       "      <td>0.0</td>\n",
       "      <td>40.708164</td>\n",
       "      <td>-73.999509</td>\n",
       "      <td>NaN</td>\n",
       "      <td>(40.7081639691088, -73.9995087014816)</td>\n",
       "    </tr>\n",
       "    <tr>\n",
       "      <th>3489</th>\n",
       "      <td>04/19/2019 09:00:00 PM</td>\n",
       "      <td>Brooklyn Bridge</td>\n",
       "      <td>33</td>\n",
       "      <td>16</td>\n",
       "      <td>17</td>\n",
       "      <td>cloudy</td>\n",
       "      <td>62.0</td>\n",
       "      <td>0.0</td>\n",
       "      <td>40.708164</td>\n",
       "      <td>-73.999509</td>\n",
       "      <td>NaN</td>\n",
       "      <td>(40.7081639691088, -73.9995087014816)</td>\n",
       "    </tr>\n",
       "    <tr>\n",
       "      <th>8761</th>\n",
       "      <td>02/05/2018 04:00:00 AM</td>\n",
       "      <td>Brooklyn Bridge</td>\n",
       "      <td>0</td>\n",
       "      <td>0</td>\n",
       "      <td>0</td>\n",
       "      <td>clear-night</td>\n",
       "      <td>36.0</td>\n",
       "      <td>0.0</td>\n",
       "      <td>40.708164</td>\n",
       "      <td>-73.999509</td>\n",
       "      <td>NaN</td>\n",
       "      <td>(40.7081639691088, -73.9995087014816)</td>\n",
       "    </tr>\n",
       "    <tr>\n",
       "      <th>8365</th>\n",
       "      <td>06/11/2019 10:00:00 PM</td>\n",
       "      <td>Brooklyn Bridge</td>\n",
       "      <td>18</td>\n",
       "      <td>11</td>\n",
       "      <td>7</td>\n",
       "      <td>clear-night</td>\n",
       "      <td>71.0</td>\n",
       "      <td>0.0</td>\n",
       "      <td>40.708164</td>\n",
       "      <td>-73.999509</td>\n",
       "      <td>NaN</td>\n",
       "      <td>(40.7081639691088, -73.9995087014816)</td>\n",
       "    </tr>\n",
       "  </tbody>\n",
       "</table>\n",
       "</div>"
      ],
      "text/plain": [
       "               hour_beginning         location  Pedestrians  \\\n",
       "10120  10/23/2017 01:00:00 PM  Brooklyn Bridge         2137   \n",
       "3070   07/30/2019 01:00:00 PM  Brooklyn Bridge          745   \n",
       "3489   04/19/2019 09:00:00 PM  Brooklyn Bridge           33   \n",
       "8761   02/05/2018 04:00:00 AM  Brooklyn Bridge            0   \n",
       "8365   06/11/2019 10:00:00 PM  Brooklyn Bridge           18   \n",
       "\n",
       "       Towards Manhattan  Towards Brooklyn    weather_summary  temperature  \\\n",
       "10120               1085              1052          clear-day         72.0   \n",
       "3070                 341               404  partly-cloudy-day         91.0   \n",
       "3489                  16                17             cloudy         62.0   \n",
       "8761                   0                 0        clear-night         36.0   \n",
       "8365                  11                 7        clear-night         71.0   \n",
       "\n",
       "       precipitation        lat       long events  \\\n",
       "10120            0.0  40.708164 -73.999509    NaN   \n",
       "3070             0.0  40.708164 -73.999509    NaN   \n",
       "3489             0.0  40.708164 -73.999509    NaN   \n",
       "8761             0.0  40.708164 -73.999509    NaN   \n",
       "8365             0.0  40.708164 -73.999509    NaN   \n",
       "\n",
       "                                   Location1  \n",
       "10120  (40.7081639691088, -73.9995087014816)  \n",
       "3070   (40.7081639691088, -73.9995087014816)  \n",
       "3489   (40.7081639691088, -73.9995087014816)  \n",
       "8761   (40.7081639691088, -73.9995087014816)  \n",
       "8365   (40.7081639691088, -73.9995087014816)  "
      ]
     },
     "execution_count": 7,
     "metadata": {},
     "output_type": "execute_result"
    }
   ],
   "source": [
    "# read in the data\n",
    "url = 'https://data.cityofnewyork.us/api/views/6fi9-q3ta/rows.csv?accessType=DOWNLOAD'\n",
    "df = pd.read_csv(url,sep=',')\n",
    "df.head()\n",
    "df.tail()\n",
    "df.sample(5)"
   ]
  },
  {
   "cell_type": "code",
   "execution_count": 10,
   "id": "11afcfa0",
   "metadata": {},
   "outputs": [
    {
     "data": {
      "text/plain": [
       "(16057, 12)"
      ]
     },
     "execution_count": 10,
     "metadata": {},
     "output_type": "execute_result"
    },
    {
     "data": {
      "text/plain": [
       "Index(['hour_beginning', 'location', 'Pedestrians', 'Towards Manhattan',\n",
       "       'Towards Brooklyn', 'weather_summary', 'temperature', 'precipitation',\n",
       "       'lat', 'long', 'events', 'Location1'],\n",
       "      dtype='object')"
      ]
     },
     "execution_count": 10,
     "metadata": {},
     "output_type": "execute_result"
    },
    {
     "data": {
      "text/plain": [
       "hour_beginning        object\n",
       "location              object\n",
       "Pedestrians            int64\n",
       "Towards Manhattan      int64\n",
       "Towards Brooklyn       int64\n",
       "weather_summary       object\n",
       "temperature          float64\n",
       "precipitation        float64\n",
       "lat                  float64\n",
       "long                 float64\n",
       "events                object\n",
       "Location1             object\n",
       "dtype: object"
      ]
     },
     "execution_count": 10,
     "metadata": {},
     "output_type": "execute_result"
    },
    {
     "name": "stdout",
     "output_type": "stream",
     "text": [
      "<class 'pandas.core.frame.DataFrame'>\n",
      "RangeIndex: 16057 entries, 0 to 16056\n",
      "Data columns (total 12 columns):\n",
      " #   Column             Non-Null Count  Dtype  \n",
      "---  ------             --------------  -----  \n",
      " 0   hour_beginning     16057 non-null  object \n",
      " 1   location           16057 non-null  object \n",
      " 2   Pedestrians        16057 non-null  int64  \n",
      " 3   Towards Manhattan  16057 non-null  int64  \n",
      " 4   Towards Brooklyn   16057 non-null  int64  \n",
      " 5   weather_summary    16041 non-null  object \n",
      " 6   temperature        16041 non-null  float64\n",
      " 7   precipitation      16041 non-null  float64\n",
      " 8   lat                16057 non-null  float64\n",
      " 9   long               16057 non-null  float64\n",
      " 10  events             1124 non-null   object \n",
      " 11  Location1          16057 non-null  object \n",
      "dtypes: float64(4), int64(3), object(5)\n",
      "memory usage: 1.5+ MB\n"
     ]
    }
   ],
   "source": [
    "df.shape\n",
    "df.columns\n",
    "df.dtypes\n",
    "df.info()"
   ]
  },
  {
   "cell_type": "code",
   "execution_count": null,
   "id": "716c56fe",
   "metadata": {},
   "outputs": [
    {
     "name": "stderr",
     "output_type": "stream",
     "text": [
      "C:\\Users\\cmdur\\AppData\\Local\\Temp\\ipykernel_42820\\4848859.py:3: UserWarning: Could not infer format, so each element will be parsed individually, falling back to `dateutil`. To ensure parsing is consistent and as-expected, please specify a format.\n",
      "  df['hour_beginning'] = pd.to_datetime(df['hour_beginning'])\n"
     ]
    },
    {
     "name": "stdout",
     "output_type": "stream",
     "text": [
      "<class 'pandas.core.frame.DataFrame'>\n",
      "RangeIndex: 16057 entries, 0 to 16056\n",
      "Data columns (total 12 columns):\n",
      " #   Column             Non-Null Count  Dtype         \n",
      "---  ------             --------------  -----         \n",
      " 0   hour_beginning     16057 non-null  datetime64[ns]\n",
      " 1   location           16057 non-null  object        \n",
      " 2   Pedestrians        16057 non-null  int64         \n",
      " 3   Towards Manhattan  16057 non-null  int64         \n",
      " 4   Towards Brooklyn   16057 non-null  int64         \n",
      " 5   weather_summary    16041 non-null  object        \n",
      " 6   temperature        16041 non-null  float64       \n",
      " 7   precipitation      16041 non-null  float64       \n",
      " 8   lat                16057 non-null  float64       \n",
      " 9   long               16057 non-null  float64       \n",
      " 10  events             1124 non-null   object        \n",
      " 11  Location1          16057 non-null  object        \n",
      "dtypes: datetime64[ns](1), float64(4), int64(3), object(4)\n",
      "memory usage: 1.5+ MB\n"
     ]
    },
    {
     "data": {
      "text/plain": [
       "0   2019-04-30 00:00:00\n",
       "1   2019-12-31 22:00:00\n",
       "2   2019-12-31 23:00:00\n",
       "3   2019-12-31 21:00:00\n",
       "4   2019-04-01 03:00:00\n",
       "Name: hour_beginning, dtype: datetime64[ns]"
      ]
     },
     "execution_count": 12,
     "metadata": {},
     "output_type": "execute_result"
    }
   ],
   "source": [
    "# convert hour_beginning to datetime\n",
    "df['hour_beginning'] = pd.to_datetime(df['hour_beginning'])\n",
    "df.info()\n",
    "df['hour_beginning'].head(5)"
   ]
  },
  {
   "cell_type": "code",
   "execution_count": 21,
   "id": "477cb02d",
   "metadata": {},
   "outputs": [
    {
     "data": {
      "text/html": [
       "<div>\n",
       "<style scoped>\n",
       "    .dataframe tbody tr th:only-of-type {\n",
       "        vertical-align: middle;\n",
       "    }\n",
       "\n",
       "    .dataframe tbody tr th {\n",
       "        vertical-align: top;\n",
       "    }\n",
       "\n",
       "    .dataframe thead th {\n",
       "        text-align: right;\n",
       "    }\n",
       "</style>\n",
       "<table border=\"1\" class=\"dataframe\">\n",
       "  <thead>\n",
       "    <tr style=\"text-align: right;\">\n",
       "      <th></th>\n",
       "      <th>hour_beginning</th>\n",
       "      <th>location</th>\n",
       "      <th>Pedestrians</th>\n",
       "      <th>Towards Manhattan</th>\n",
       "      <th>Towards Brooklyn</th>\n",
       "      <th>weather_summary</th>\n",
       "      <th>temperature</th>\n",
       "      <th>precipitation</th>\n",
       "      <th>lat</th>\n",
       "      <th>long</th>\n",
       "      <th>events</th>\n",
       "      <th>Location1</th>\n",
       "      <th>hour</th>\n",
       "      <th>month</th>\n",
       "      <th>date</th>\n",
       "      <th>day_name</th>\n",
       "    </tr>\n",
       "  </thead>\n",
       "  <tbody>\n",
       "    <tr>\n",
       "      <th>0</th>\n",
       "      <td>2019-04-30 00:00:00</td>\n",
       "      <td>Brooklyn Bridge</td>\n",
       "      <td>3</td>\n",
       "      <td>3</td>\n",
       "      <td>0</td>\n",
       "      <td>NaN</td>\n",
       "      <td>NaN</td>\n",
       "      <td>NaN</td>\n",
       "      <td>40.708164</td>\n",
       "      <td>-73.999509</td>\n",
       "      <td>NaN</td>\n",
       "      <td>(40.7081639691088, -73.9995087014816)</td>\n",
       "      <td>0</td>\n",
       "      <td>4</td>\n",
       "      <td>2019-04-30</td>\n",
       "      <td>Tuesday</td>\n",
       "    </tr>\n",
       "    <tr>\n",
       "      <th>1</th>\n",
       "      <td>2019-12-31 22:00:00</td>\n",
       "      <td>Brooklyn Bridge</td>\n",
       "      <td>10</td>\n",
       "      <td>9</td>\n",
       "      <td>1</td>\n",
       "      <td>cloudy</td>\n",
       "      <td>42.0</td>\n",
       "      <td>0.0005</td>\n",
       "      <td>40.708164</td>\n",
       "      <td>-73.999509</td>\n",
       "      <td>NaN</td>\n",
       "      <td>(40.7081639691088, -73.9995087014816)</td>\n",
       "      <td>22</td>\n",
       "      <td>12</td>\n",
       "      <td>2019-12-31</td>\n",
       "      <td>Tuesday</td>\n",
       "    </tr>\n",
       "    <tr>\n",
       "      <th>2</th>\n",
       "      <td>2019-12-31 23:00:00</td>\n",
       "      <td>Brooklyn Bridge</td>\n",
       "      <td>2</td>\n",
       "      <td>0</td>\n",
       "      <td>2</td>\n",
       "      <td>cloudy</td>\n",
       "      <td>42.0</td>\n",
       "      <td>0.0004</td>\n",
       "      <td>40.708164</td>\n",
       "      <td>-73.999509</td>\n",
       "      <td>NaN</td>\n",
       "      <td>(40.7081639691088, -73.9995087014816)</td>\n",
       "      <td>23</td>\n",
       "      <td>12</td>\n",
       "      <td>2019-12-31</td>\n",
       "      <td>Tuesday</td>\n",
       "    </tr>\n",
       "    <tr>\n",
       "      <th>3</th>\n",
       "      <td>2019-12-31 21:00:00</td>\n",
       "      <td>Brooklyn Bridge</td>\n",
       "      <td>12</td>\n",
       "      <td>0</td>\n",
       "      <td>12</td>\n",
       "      <td>cloudy</td>\n",
       "      <td>42.0</td>\n",
       "      <td>0.0036</td>\n",
       "      <td>40.708164</td>\n",
       "      <td>-73.999509</td>\n",
       "      <td>NaN</td>\n",
       "      <td>(40.7081639691088, -73.9995087014816)</td>\n",
       "      <td>21</td>\n",
       "      <td>12</td>\n",
       "      <td>2019-12-31</td>\n",
       "      <td>Tuesday</td>\n",
       "    </tr>\n",
       "    <tr>\n",
       "      <th>4</th>\n",
       "      <td>2019-04-01 03:00:00</td>\n",
       "      <td>Brooklyn Bridge</td>\n",
       "      <td>1</td>\n",
       "      <td>0</td>\n",
       "      <td>1</td>\n",
       "      <td>clear-night</td>\n",
       "      <td>36.0</td>\n",
       "      <td>0.0000</td>\n",
       "      <td>40.708164</td>\n",
       "      <td>-73.999509</td>\n",
       "      <td>NaN</td>\n",
       "      <td>(40.7081639691088, -73.9995087014816)</td>\n",
       "      <td>3</td>\n",
       "      <td>4</td>\n",
       "      <td>2019-04-01</td>\n",
       "      <td>Monday</td>\n",
       "    </tr>\n",
       "  </tbody>\n",
       "</table>\n",
       "</div>"
      ],
      "text/plain": [
       "       hour_beginning         location  Pedestrians  Towards Manhattan  \\\n",
       "0 2019-04-30 00:00:00  Brooklyn Bridge            3                  3   \n",
       "1 2019-12-31 22:00:00  Brooklyn Bridge           10                  9   \n",
       "2 2019-12-31 23:00:00  Brooklyn Bridge            2                  0   \n",
       "3 2019-12-31 21:00:00  Brooklyn Bridge           12                  0   \n",
       "4 2019-04-01 03:00:00  Brooklyn Bridge            1                  0   \n",
       "\n",
       "   Towards Brooklyn weather_summary  temperature  precipitation        lat  \\\n",
       "0                 0             NaN          NaN            NaN  40.708164   \n",
       "1                 1          cloudy         42.0         0.0005  40.708164   \n",
       "2                 2          cloudy         42.0         0.0004  40.708164   \n",
       "3                12          cloudy         42.0         0.0036  40.708164   \n",
       "4                 1     clear-night         36.0         0.0000  40.708164   \n",
       "\n",
       "        long events                              Location1  hour  month  \\\n",
       "0 -73.999509    NaN  (40.7081639691088, -73.9995087014816)     0      4   \n",
       "1 -73.999509    NaN  (40.7081639691088, -73.9995087014816)    22     12   \n",
       "2 -73.999509    NaN  (40.7081639691088, -73.9995087014816)    23     12   \n",
       "3 -73.999509    NaN  (40.7081639691088, -73.9995087014816)    21     12   \n",
       "4 -73.999509    NaN  (40.7081639691088, -73.9995087014816)     3      4   \n",
       "\n",
       "         date day_name  \n",
       "0  2019-04-30  Tuesday  \n",
       "1  2019-12-31  Tuesday  \n",
       "2  2019-12-31  Tuesday  \n",
       "3  2019-12-31  Tuesday  \n",
       "4  2019-04-01   Monday  "
      ]
     },
     "execution_count": 21,
     "metadata": {},
     "output_type": "execute_result"
    }
   ],
   "source": [
    "# extract date time features\n",
    "df['hour'] = df['hour_beginning'].dt.hour\n",
    "df['month'] = df['hour_beginning'].dt.month\n",
    "df['date'] = df['hour_beginning'].dt.date\n",
    "df['day_name'] = df['hour_beginning'].dt.day_name()\n",
    "\n",
    "df.head()"
   ]
  },
  {
   "cell_type": "code",
   "execution_count": 24,
   "id": "8ac3ecdd",
   "metadata": {},
   "outputs": [
    {
     "data": {
      "text/plain": [
       "<Figure size 1200x600 with 0 Axes>"
      ]
     },
     "execution_count": 24,
     "metadata": {},
     "output_type": "execute_result"
    },
    {
     "data": {
      "text/plain": [
       "<Axes: xlabel='day_name'>"
      ]
     },
     "execution_count": 24,
     "metadata": {},
     "output_type": "execute_result"
    },
    {
     "data": {
      "text/plain": [
       "Text(0.5, 1.0, 'Total Pedestrian Counts by Weekday')"
      ]
     },
     "execution_count": 24,
     "metadata": {},
     "output_type": "execute_result"
    },
    {
     "data": {
      "text/plain": [
       "Text(0.5, 0, 'Weekday')"
      ]
     },
     "execution_count": 24,
     "metadata": {},
     "output_type": "execute_result"
    },
    {
     "data": {
      "text/plain": [
       "Text(0, 0.5, 'Pedestrian Count')"
      ]
     },
     "execution_count": 24,
     "metadata": {},
     "output_type": "execute_result"
    },
    {
     "data": {
      "image/png": "[encoded data removed]",
      "text/plain": [
       "<Figure size 1200x600 with 1 Axes>"
      ]
     },
     "metadata": {},
     "output_type": "display_data"
    }
   ],
   "source": [
    "# Filter the data to include only weekdays (Monday to Friday) and plot a line graph showing ..\n",
    "# the pedestrian counts for each day of the week.\n",
    "weekday_counts = df.groupby(df['day_name'])['Pedestrians'].sum().reindex(['Monday', 'Tuesday', 'Wednesday', 'Thursday', 'Friday'])\n",
    "plt.figure(figsize=(12, 6))\n",
    "weekday_counts.plot(kind='bar', color='orange')\n",
    "plt.title('Total Pedestrian Counts by Weekday')\n",
    "plt.xlabel('Weekday')\n",
    "plt.ylabel('Pedestrian Count')\n",
    "plt.grid(axis='y')  #grid created alone y axis\n",
    "plt.tight_layout()\n",
    "plt.show()"
   ]
  },
  {
   "cell_type": "code",
   "execution_count": 43,
   "id": "e13ae526",
   "metadata": {},
   "outputs": [
    {
     "data": {
      "text/plain": [
       "weather_summary\n",
       "partly-cloudy-day      2790868\n",
       "clear-day              1953025\n",
       "cloudy                  984867\n",
       "rain                    139502\n",
       "partly-cloudy-night      63794\n",
       "clear-night              61815\n",
       "snow                      8460\n",
       "fog                       4673\n",
       "wind                      2716\n",
       "sleet                     1426\n",
       "Name: Pedestrians, dtype: int64"
      ]
     },
     "execution_count": 43,
     "metadata": {},
     "output_type": "execute_result"
    },
    {
     "data": {
      "text/plain": [
       "<Figure size 1200x600 with 0 Axes>"
      ]
     },
     "execution_count": 43,
     "metadata": {},
     "output_type": "execute_result"
    },
    {
     "data": {
      "text/plain": [
       "<Axes: xlabel='weather_summary'>"
      ]
     },
     "execution_count": 43,
     "metadata": {},
     "output_type": "execute_result"
    },
    {
     "data": {
      "text/plain": [
       "Text(0.5, 1.0, 'Total Pedestrian Counts by Weather Summary')"
      ]
     },
     "execution_count": 43,
     "metadata": {},
     "output_type": "execute_result"
    },
    {
     "data": {
      "text/plain": [
       "Text(0.5, 0, 'Weather Summary')"
      ]
     },
     "execution_count": 43,
     "metadata": {},
     "output_type": "execute_result"
    },
    {
     "data": {
      "text/plain": [
       "Text(0, 0.5, 'Pedestrian Count')"
      ]
     },
     "execution_count": 43,
     "metadata": {},
     "output_type": "execute_result"
    },
    {
     "data": {
      "image/png": "[encoded data removed]",
      "text/plain": [
       "<Figure size 1200x600 with 1 Axes>"
      ]
     },
     "metadata": {},
     "output_type": "display_data"
    }
   ],
   "source": [
    "# Track pedestrian counts on the Brooklyn Bridge for the year 2019 and analyze how different ..\n",
    "# weather conditions influence pedestrian activity in that year. Sort the pedestrian count data ..\n",
    "# by weather summary to identify any correlations( with a correlation matrix) between weather patterns ..\n",
    "# and pedestrian counts for the selected year.\n",
    "\n",
    "df_2019 = df[df['hour_beginning'].dt.year == 2019]\n",
    "weather_counts = df_2019.groupby(df_2019['weather_summary'])['Pedestrians'].sum().sort_values(ascending=False)\n",
    "weather_counts\n",
    "plt.figure(figsize=(12, 6))\n",
    "weather_counts.plot(kind='bar', color='orange')\n",
    "plt.title('Total Pedestrian Counts by Weather Summary')\n",
    "plt.xlabel('Weather Summary')\n",
    "plt.ylabel('Pedestrian Count')\n",
    "plt.grid(axis='y')  #grid created alone y axis\n",
    "plt.tight_layout()\n",
    "plt.show()"
   ]
  },
  {
   "cell_type": "code",
   "execution_count": 47,
   "id": "f6707e53",
   "metadata": {},
   "outputs": [
    {
     "data": {
      "text/plain": [
       "time_of_day\n",
       "Morning      2480582\n",
       "Afternoon    5852025\n",
       "Evening      2432145\n",
       "Night         268114\n",
       "Name: Pedestrians, dtype: int64"
      ]
     },
     "execution_count": 47,
     "metadata": {},
     "output_type": "execute_result"
    }
   ],
   "source": [
    "# Implement a custom function to categorize time of day into morning, afternoon, evening, and night, ..\n",
    "# and create a new column in the DataFrame to store these categories. Use this new column to analyze ..\n",
    "# pedestrian activity patterns throughout the day.\n",
    "\n",
    "def categorize_time_of_day(hour):\n",
    "    if 5 <= hour < 12:\n",
    "        return 'Morning'\n",
    "    elif 12 <= hour < 17:\n",
    "        return 'Afternoon'\n",
    "    elif 17 <= hour < 21:\n",
    "        return 'Evening'\n",
    "    else:\n",
    "        return 'Night'\n",
    "    \n",
    "df['time_of_day'] = df['hour'].apply(categorize_time_of_day)\n",
    "time_of_day_counts = df.groupby('time_of_day')['Pedestrians'].sum().reindex(['Morning', 'Afternoon', 'Evening', 'Night'])\n",
    "time_of_day_counts"
   ]
  },
  {
   "cell_type": "code",
   "execution_count": null,
   "id": "880d2407",
   "metadata": {},
   "outputs": [],
   "source": []
  }
 ],
 "metadata": {
  "kernelspec": {
   "display_name": "env_api",
   "language": "python",
   "name": "python3"
  },
  "language_info": {
   "codemirror_mode": {
    "name": "ipython",
    "version": 3
   },
   "file_extension": ".py",
   "mimetype": "text/x-python",
   "name": "python",
   "nbconvert_exporter": "python",
   "pygments_lexer": "ipython3",
   "version": "3.12.2"
  }
 },
 "nbformat": 4,
 "nbformat_minor": 5
}
